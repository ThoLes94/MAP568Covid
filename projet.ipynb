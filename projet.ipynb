{
 "cells": [
  {
   "cell_type": "markdown",
   "metadata": {},
   "source": [
    "# Projet Covid"
   ]
  },
  {
   "cell_type": "code",
   "execution_count": 146,
   "metadata": {},
   "outputs": [],
   "source": [
    "import numpy as np\n",
    "import matplotlib.pyplot as plt\n",
    "import pandas as pd\n",
    "import seaborn as sns\n",
    "import scipy.stats as stats\n",
    "import scipy as sp\n",
    "\n",
    "from datetime import datetime "
   ]
  },
  {
   "cell_type": "markdown",
   "metadata": {},
   "source": [
    "## Initialisation"
   ]
  },
  {
   "cell_type": "markdown",
   "metadata": {},
   "source": [
    "![test](Images/table.png)\n"
   ]
  },
  {
   "cell_type": "code",
   "execution_count": 216,
   "metadata": {},
   "outputs": [
    {
     "name": "stdout",
     "output_type": "stream",
     "text": [
      "35.855527575056094\n",
      "0.007913373977674922\n"
     ]
    }
   ],
   "source": [
    "beta0 = np.random.uniform(0.7, 1.1)\n",
    "f = np.random.uniform(0.1, 0.5)\n",
    "\n",
    "E0 = np.exp(np.random.uniform(- np.log(10), 2 *np.log(10)))\n",
    "print(E0)\n",
    "\n",
    "d0 = datetime(2020, 2, 4)\n",
    "d1 = datetime(2020, 3, 12)\n",
    "d2 = datetime(2020, 3, 22)\n",
    "d3 = datetime(2020, 5, 17)\n",
    "\n",
    "t0 = (d0 - datetime(2020, 1, 1)).days\n",
    "t1 = np.random.uniform(d1.timetuple().tm_yday, d2.timetuple().tm_yday) - t0\n",
    "\n",
    "t2 = t1 + np.random.randint(4, 20) \n",
    "\n",
    "T_max = d3.timetuple().tm_yday - d0.timetuple().tm_yday\n",
    "\n",
    "alpha = np.random.uniform(0.3, .7)\n",
    "mu    = np.random.uniform(0.3, 0.7)\n",
    "\n",
    "TE = np.random.uniform(2.5, 3.5)\n",
    "TI = np.random.randint(4, 5)\n",
    "\n",
    "gamma = np.exp(np.log(0.03) + np.random.uniform(-np.log(4), np.log(4)))\n",
    "print(gamma)\n",
    "\n",
    "beta = np.zeros(T_max) # initialisation de beta\n",
    "beta[0] = beta0\n",
    "\n",
    "for k in range(T_max):\n",
    "    if k < t1:\n",
    "        beta[k] = beta0\n",
    "    if t1 <= k < t1 + t2 :\n",
    "        beta[k] = beta0 * (1 - (1 - f) * (k - t1) / t2) \n",
    "    if k >= t1 + t2:\n",
    "        beta[k] = beta0 * f"
   ]
  },
  {
   "cell_type": "code",
   "execution_count": 217,
   "metadata": {},
   "outputs": [
    {
     "name": "stdout",
     "output_type": "stream",
     "text": [
      "34\n"
     ]
    }
   ],
   "source": [
    "print(t0)"
   ]
  },
  {
   "cell_type": "code",
   "execution_count": 218,
   "metadata": {},
   "outputs": [],
   "source": [
    "N = 67 * 1e6\n",
    "\n",
    "S = np.zeros(T_max)\n",
    "E = np.zeros(T_max)\n",
    "I = np.zeros(T_max)\n",
    "A = np.zeros(T_max)\n",
    "R = np.zeros(T_max)\n",
    "\n",
    "E[0] = E0\n",
    "S[0] = N - E[0] - I[0] - A[0] - R[0]\n",
    "\n",
    "def contrainte(N, S, E, I, A, R):\n",
    "    return N == S + E + I + A + R\n",
    "\n"
   ]
  },
  {
   "cell_type": "markdown",
   "metadata": {},
   "source": [
    "## Question 1)"
   ]
  },
  {
   "cell_type": "markdown",
   "metadata": {},
   "source": [
    "![test](Images/equations.png)"
   ]
  },
  {
   "cell_type": "code",
   "execution_count": 221,
   "metadata": {},
   "outputs": [],
   "source": [
    "## Première approche Euler Explicite\n",
    "## Attention méthode non stable\n",
    "Erreur = np.zeros(T_max)\n",
    "for t in range(T_max): \n",
    "    if t == 0:\n",
    "        continue\n",
    "    else:\n",
    "        S[t] = round(S[t-1] - beta[t] * S[t-1] / N * (I[t-1] + mu * A[t-1]))\n",
    "        E[t] = round(E[t-1] + beta[t] * S[t-1] / N * (I[t-1] + mu * A[t-1]) -  E[t-1] / TE)\n",
    "        I[t] = round(I[t-1] + alpha * E[t-1] / TE - I[t-1] / TI)\n",
    "        A[t] = round(A[t-1] + (1 - alpha) * E[t-1] / TE - A[t-1] / TI)\n",
    "        R[t] = round(R[t-1] + (I[t] + A[t]) / TI)\n",
    "        # R[t] = N - S[t] - E[t] - I[t] - A[t]\n",
    "        if contrainte(N, S[t], E[t], I[t], A[t], R[t]):\n",
    "            continue\n",
    "        else:\n",
    "            Erreur[t] = N - S[t] - E[t] - I[t] - A[t] - R[t]\n",
    "            # print(S[t] + E[t] + I[t] + A[t] + R[t])\n",
    "            # print(\"Erreur\")\n",
    "            # break\n",
    "\n",
    "H = gamma * I / TI\n",
    "\n",
    "\n"
   ]
  },
  {
   "cell_type": "code",
   "execution_count": 222,
   "metadata": {},
   "outputs": [
    {
     "data": {
      "image/png": "[encoded data removed]",
      "text/plain": [
       "<Figure size 432x288 with 1 Axes>"
      ]
     },
     "metadata": {
      "needs_background": "light"
     },
     "output_type": "display_data"
    },
    {
     "data": {
      "text/plain": [
       "[<matplotlib.lines.Line2D at 0x1c5668190a0>]"
      ]
     },
     "execution_count": 222,
     "metadata": {},
     "output_type": "execute_result"
    },
    {
     "data": {
      "image/png": "[encoded data removed]",
      "text/plain": [
       "<Figure size 432x288 with 1 Axes>"
      ]
     },
     "metadata": {
      "needs_background": "light"
     },
     "output_type": "display_data"
    }
   ],
   "source": [
    "plt.plot(A, label = \"S\")\n",
    "\n",
    "plt.plot(I, label = \"I\")\n",
    "\n",
    "plt.plot(S, label = \"S\")\n",
    "plt.plot(E, label = \"E\")\n",
    "plt.plot(R, label = \"R\")\n",
    "plt.plot(H, label = \"H\")\n",
    "\n",
    "plt.legend()\n",
    "\n",
    "plt.show()\n",
    "# print(H)\n",
    "plt.plot(Erreur/N * 100)"
   ]
  },
  {
   "cell_type": "code",
   "execution_count": 224,
   "metadata": {},
   "outputs": [
    {
     "name": "stdout",
     "output_type": "stream",
     "text": [
      "max Hospitalisation :  425.4032016048596 le  20-04-2020\n",
      "Proportion finale de suceptible :  93.5658552238806\n"
     ]
    }
   ],
   "source": [
    "day_num = str(np.argmax(H) + t0) \n",
    "res = datetime.strptime('2020' + \"-\" + day_num, \"%Y-%j\").strftime(\"%d-%m-%Y\") \n",
    "print('max Hospitalisation : ', np.max(H), 'le ', res)\n",
    "\n",
    "print('Proportion finale de suceptible : ', S[-1] / N * 100)\n"
   ]
  },
  {
   "cell_type": "code",
   "execution_count": null,
   "metadata": {},
   "outputs": [],
   "source": []
  }
 ],
 "metadata": {
  "interpreter": {
   "hash": "4e45a42a02399ef7d405ae537aa782b13f90516b24d23472bed56c0be54a5ad5"
  },
  "kernelspec": {
   "display_name": "Python 3.8.12 ('base')",
   "language": "python",
   "name": "python3"
  },
  "language_info": {
   "codemirror_mode": {
    "name": "ipython",
    "version": 3
   },
   "file_extension": ".py",
   "mimetype": "text/x-python",
   "name": "python",
   "nbconvert_exporter": "python",
   "pygments_lexer": "ipython3",
   "version": "3.8.12"
  },
  "orig_nbformat": 4
 },
 "nbformat": 4,
 "nbformat_minor": 2
}
